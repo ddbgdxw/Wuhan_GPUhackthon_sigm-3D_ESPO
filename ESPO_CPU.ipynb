{
 "cells": [
  {
   "cell_type": "code",
   "execution_count": 31,
   "metadata": {},
   "outputs": [],
   "source": [
    "import scipy.io as io\n",
    "import numpy as np\n",
    "from tqdm import tqdm\n",
    "import scipy\n",
    "import time"
   ]
  },
  {
   "cell_type": "markdown",
   "metadata": {},
   "source": [
    "#### 1 数据读入\n",
    "\n",
    "提供了四个不同大小的模拟数据\n",
    "\n",
    "TSPolInCM_filter_1.mat 6×6×115×115×19\n",
    "\n",
    "TSPolInCM_filter_3.mat 6×6×115×115×54\n",
    "\n",
    "TSPolInCM_filter_9.mat 6×6×115×115×135  \n",
    "\n",
    "TSPolInCM_filter_15.mat 6×6×115×115×180\n",
    "\n",
    "数据格式为：6×6×m×n×M"
   ]
  },
  {
   "cell_type": "code",
   "execution_count": 32,
   "metadata": {},
   "outputs": [
    {
     "name": "stdout",
     "output_type": "stream",
     "text": [
      "(6, 6, 115, 115, 19)\n"
     ]
    }
   ],
   "source": [
    "data=io.loadmat('./data/TSPolInCM_filter_1.mat')\n",
    "# data=io.loadmat('./data/TSPolInCM_filter_3.mat')\n",
    "# data=io.loadmat('./data/TSPolInCM_filter_9.mat')\n",
    "# data=io.loadmat('./data/TSPolInCM_filter_15.mat')\n",
    "TSPolInCM_filter=data['data']\n",
    "print(TSPolInCM_filter.shape)\n",
    "# 数据格式为：6*6*m*n*M"
   ]
  },
  {
   "cell_type": "markdown",
   "metadata": {},
   "source": [
    "#### 2 ESPO for DS\n",
    "\n",
    "这里是需要优化的算法部分"
   ]
  },
  {
   "cell_type": "markdown",
   "metadata": {},
   "source": [
    "##### 2.1 非线性优化目标函数"
   ]
  },
  {
   "cell_type": "code",
   "execution_count": 33,
   "metadata": {},
   "outputs": [],
   "source": [
    "def favecoh_fullpol(x,pTST11,pTST12,pTST22,nintf):\n",
    "    # 计算三个ω值，x为求解的4个参数值\n",
    "    _omegaconj=np.zeros((3,1),dtype='complex_')\n",
    "    [_omegaconj[0],_omegaconj[1],_omegaconj[2]]=[np.conjugate(np.cos(x[0])),np.conjugate(np.sin(x[0])*np.cos(x[1])*np.exp(x[2]*1j)),np.conjugate(np.sin(x[0])*np.sin(x[1])*np.exp(x[3]*1j))]\n",
    "    _omegaconj=_omegaconj.T\n",
    "    \n",
    "    [_npol,qq,_nintf]=pTST11.shape\n",
    "    _omegaSet=np.kron(np.ones((1,nintf)),np.conjugate(_omegaconj))\n",
    "\n",
    "    pTST11opt=np.multiply(np.dot(_omegaconj,np.reshape(pTST11,[_npol,_npol*_nintf],order='F')),_omegaSet)\n",
    "    pTST12opt=np.multiply(np.dot(_omegaconj,np.reshape(pTST12,[_npol,_npol*_nintf],order='F')),_omegaSet)\n",
    "    pTST22opt=np.multiply(np.dot(_omegaconj,np.reshape(pTST22,[_npol,_npol*_nintf],order='F')),_omegaSet)\n",
    "    pTST11opt=np.sum(np.reshape(pTST11opt,[pTST11opt.shape[0],_nintf,_npol],order='C'),axis=2)\n",
    "    pTST12opt=np.sum(np.reshape(pTST12opt,[pTST11opt.shape[0],_nintf,_npol],order='C'),axis=2)\n",
    "    pTST22opt=np.sum(np.reshape(pTST22opt,[pTST11opt.shape[0],_nintf,_npol],order='C'),axis=2)\n",
    "    TSCoh=np.divide(pTST12opt,np.sqrt(np.multiply(pTST11opt,pTST22opt)))\n",
    "    \n",
    "    meanTScoh=np.mean(np.abs(TSCoh),axis=1)\n",
    "    return -meanTScoh"
   ]
  },
  {
   "cell_type": "code",
   "execution_count": 34,
   "metadata": {},
   "outputs": [],
   "source": [
    "def ESPO_TSPolDS_1(TSPolInCM,interdeg=10):\n",
    "    [q,qq,nrow,ncol,nintf]=TSPolInCM.shape\n",
    "    # step1\n",
    "    # 计算枚举4个参数的步长,并枚举4个参数（枚举需要包含右端点）\n",
    "    npol=q//2\n",
    "    num_1=90//interdeg\n",
    "    num_2=360//interdeg\n",
    "    if 90%interdeg==0:\n",
    "        num_1+=1\n",
    "        num_2+=1\n",
    "    num_1=num_1*1j\n",
    "    num_2=num_2*1j\n",
    "\n",
    "    a=np.mgrid[0:90:num_1,0:90:num_1,-180:180:num_2,-180:180:num_2]\n",
    "    [aaa,bbb,ccc,ddd,eee]=a.shape\n",
    "    sum=bbb*ccc*ddd*eee\n",
    "    dff=np.zeros((4,sum))\n",
    "    b=np.ravel(a[0],order='F')\n",
    "    c=np.ravel(a[1],order='F')\n",
    "    d=np.ravel(a[2],order='F')\n",
    "    e=np.ravel(a[3],order='F')\n",
    "    dff[0]=b\n",
    "    dff[1]=c\n",
    "    dff[2]=d\n",
    "    dff[3]=e\n",
    "    para=dff*np.pi/180\n",
    "\n",
    "    # 使用4个参数计算ω值\n",
    "    omegaconj=np.zeros((3,sum),dtype='complex_')\n",
    "    [omegaconj[0],omegaconj[1],omegaconj[2]]=[np.conjugate(np.cos(para[0,:])),np.conjugate(np.sin(para[0,:])*np.cos(para[1,:])*np.exp(para[2,:]*1j)),np.conjugate(np.sin(para[0,:])*np.sin(para[1,:])*np.exp(para[3,:]*1j))]\n",
    "    omegaconj=omegaconj.T\n",
    "    para=para.T\n",
    "    # print(omegaconj.shape)\n",
    "    # ω的数据格式：枚举数目×3\n",
    "    omegaSet=np.kron(np.ones((1,nintf)),np.conjugate(omegaconj))\n",
    "    # print(omegaSet.shape)\n",
    "    # ω的数据格式：枚举数目×（3*M）\n",
    "    optpara=np.zeros((nrow,ncol,4))\n",
    "\n",
    "    TSPolInCMT11=TSPolInCM[0:npol,0:npol,:,:,:]\n",
    "    TSPolInCMT12=TSPolInCM[0:npol,npol:npol*2,:,:,:]\n",
    "    TSPolInCMT22=TSPolInCM[npol:npol*2,npol:npol*2,:,:,:]    \n",
    "    # T矩阵数据格式：3×3×n×m×M\n",
    "    # step2\n",
    "    # 开始对每个像素进行处理\n",
    "    for ii in tqdm(range(nrow),position=0,desc='ESPO_TSPolDS:'):\n",
    "        for jj in range(ncol):\n",
    "\n",
    "            pTST11=np.squeeze(TSPolInCMT11[:,:,ii,jj,:])\n",
    "            pTST12=np.squeeze(TSPolInCMT12[:,:,ii,jj,:])\n",
    "            pTST22=np.squeeze(TSPolInCMT22[:,:,ii,jj,:])\n",
    "            \n",
    "            pTST11opt=np.multiply(np.dot(omegaconj,np.reshape(pTST11,[npol,npol*nintf],order='F')),omegaSet)\n",
    "            pTST12opt=np.multiply(np.dot(omegaconj,np.reshape(pTST12,[npol,npol*nintf],order='F')),omegaSet)\n",
    "            pTST22opt=np.multiply(np.dot(omegaconj,np.reshape(pTST22,[npol,npol*nintf],order='F')),omegaSet)\n",
    "            \n",
    "            pTST11opt=np.sum(np.reshape(pTST11opt,[pTST11opt.shape[0],nintf,npol],order='C'),axis=2)\n",
    "            pTST12opt=np.sum(np.reshape(pTST12opt,[pTST11opt.shape[0],nintf,npol],order='C'),axis=2)\n",
    "            pTST22opt=np.sum(np.reshape(pTST22opt,[pTST11opt.shape[0],nintf,npol],order='C'),axis=2)\n",
    "\n",
    "            TSCoh=np.divide(pTST12opt,np.sqrt(np.multiply(pTST11opt,pTST22opt)))\n",
    "            meanTScoh=np.mean(np.abs(TSCoh),axis=1)\n",
    "            maxInd=np.argmax(meanTScoh, axis=0)\n",
    "            optpara[ii,jj,:]=para[maxInd,:]\n",
    "\n",
    "\n",
    "    return optpara"
   ]
  },
  {
   "cell_type": "code",
   "execution_count": 35,
   "metadata": {},
   "outputs": [],
   "source": [
    "def ESPO_TSPolDS_2(TSPolInCM,optparaDS0_lag3,interdeg):\n",
    "    # optparaDS0_lag3是step2求解出的最优参数\n",
    "    [q,qq,nrow,ncol,nintf]=TSPolInCM.shape\n",
    "    npol=q//2\n",
    "    optomegaconj=np.zeros((nrow,ncol,npol),dtype='complex_')\n",
    "    optmeanCoh=np.zeros((nrow,ncol)) \n",
    "    optTSCoh=np.zeros((nrow,ncol,nintf),'complex_')\n",
    "    TSPolInCMT11=TSPolInCM[0:npol,0:npol,:,:,:]\n",
    "    TSPolInCMT12=TSPolInCM[0:npol,npol:npol*2,:,:,:]\n",
    "    TSPolInCMT22=TSPolInCM[npol:npol*2,npol:npol*2,:,:,:]\n",
    "\n",
    "    # step3\n",
    "    # 非线性优化部分\n",
    "    for ii in tqdm(range(nrow),position=0,desc='ESPO_TSPolDS:'):\n",
    "        for jj in range(ncol):\n",
    "            pTST11=np.squeeze(TSPolInCMT11[:,:,ii,jj,:])\n",
    "            pTST12=np.squeeze(TSPolInCMT12[:,:,ii,jj,:])\n",
    "            pTST22=np.squeeze(TSPolInCMT22[:,:,ii,jj,:])\n",
    "            x0=optparaDS0_lag3[ii,jj,:].T\n",
    "            lb0 = [0,0,-np.pi,-np.pi]\n",
    "            ub0 = [np.pi/2,np.pi/2,np.pi,np.pi]\n",
    "            lb1 = [x0[0],x0[1],x0[2],x0[3]]-np.deg2rad(interdeg)\n",
    "            ub1 = [x0[0],x0[1],x0[2],x0[3]]+np.deg2rad(interdeg)\n",
    "            lb=np.max([lb0,lb1],axis=0)\n",
    "            ub=np.min([ub0,ub1],axis=0)\n",
    "            bounds=((lb[0],ub[0]),(lb[1],ub[1]),(lb[2],ub[2]),(lb[3],ub[3]))\n",
    "            fval=scipy.optimize.minimize(favecoh_fullpol,x0,args=(pTST11,pTST12,pTST22,nintf),bounds=bounds)\n",
    "            x0=fval.x\n",
    "            optmeanCoh[ii,jj]=-fval.fun\n",
    "            fomegaconj=np.zeros((3,1),dtype='complex_')\n",
    "            [fomegaconj[0],fomegaconj[1],fomegaconj[2]]=[np.conjugate(np.cos(x0[0])),np.conjugate(np.sin(x0[0])*np.cos(x0[1])*np.exp(x0[2]*1j)),np.conjugate(np.sin(x0[0])*np.sin(x0[1])*np.exp(x0[3]*1j))]\n",
    "            fomegaconj=fomegaconj.T\n",
    "            optomegaconj[ii,jj,:]=fomegaconj\n",
    "            fomegaSet=np.kron(np.ones((1,nintf)),np.conjugate(fomegaconj))\n",
    "            pTST11opt=np.multiply(np.dot(fomegaconj,np.reshape(pTST11,[npol,npol*nintf],order='F')),fomegaSet)\n",
    "            pTST12opt=np.multiply(np.dot(fomegaconj,np.reshape(pTST12,[npol,npol*nintf],order='F')),fomegaSet)\n",
    "            pTST22opt=np.multiply(np.dot(fomegaconj,np.reshape(pTST22,[npol,npol*nintf],order='F')),fomegaSet)\n",
    "            pTST11opt=np.sum(np.reshape(pTST11opt,[pTST11opt.shape[0],nintf,npol],order='C'),axis=2)\n",
    "            pTST12opt=np.sum(np.reshape(pTST12opt,[pTST11opt.shape[0],nintf,npol],order='C'),axis=2)\n",
    "            pTST22opt=np.sum(np.reshape(pTST22opt,[pTST11opt.shape[0],nintf,npol],order='C'),axis=2)\n",
    "            TSCoh=np.divide(pTST12opt,np.sqrt(np.multiply(pTST11opt,pTST22opt)))\n",
    "            optTSCoh[ii,jj,:]=TSCoh\n",
    "\n",
    "    s3=time.time()\n",
    "    return optomegaconj,optTSCoh,optmeanCoh"
   ]
  },
  {
   "cell_type": "code",
   "execution_count": 36,
   "metadata": {},
   "outputs": [
    {
     "name": "stderr",
     "output_type": "stream",
     "text": [
      "ESPO_TSPolDS::   0%|          | 0/115 [00:00<?, ?it/s]"
     ]
    },
    {
     "name": "stderr",
     "output_type": "stream",
     "text": [
      "ESPO_TSPolDS::   6%|▌         | 7/115 [06:41<1:38:02, 54.47s/it]"
     ]
    }
   ],
   "source": [
    "s1=time.time()\n",
    "optparaDS0=ESPO_TSPolDS_1(TSPolInCM_filter,10)\n",
    "s2=time.time()\n",
    "omegaconjDS,optTSCoh,optmeanCoh=ESPO_TSPolDS_2(TSPolInCM_filter,optparaDS0,10)\n",
    "s3=time.time()\n",
    "print(s2-s1,'s')\n",
    "print(s3-s2,'s')"
   ]
  },
  {
   "cell_type": "code",
   "execution_count": null,
   "metadata": {},
   "outputs": [
    {
     "name": "stdout",
     "output_type": "stream",
     "text": [
      "1404.870727777481 s\n",
      "113.27429056167603 s\n"
     ]
    }
   ],
   "source": [
    "print(s2-s1,'s')\n",
    "print(s3-s2,'s')"
   ]
  },
  {
   "cell_type": "markdown",
   "metadata": {},
   "source": [
    "#### 3 结果验证\n",
    "\n",
    "结果验证部分"
   ]
  },
  {
   "cell_type": "code",
   "execution_count": null,
   "metadata": {},
   "outputs": [],
   "source": [
    "def TSPolInCM2TSInCMSet(TSPolInCM,omegaconj):\n",
    "    [q,qq,nrow,ncol,nintf]=TSPolInCM.shape\n",
    "    optTSInCMSet=np.zeros((2,2,nrow,ncol,nintf),dtype='complex_')\n",
    "    for ii in tqdm(range(nrow),position=0,desc='TSPolInCM2TSInCMSet:'):\n",
    "        for jj in range(nrow):\n",
    "            for kk in range(nintf):\n",
    "                pomegaconj=np.kron(np.identity(2),(np.squeeze(omegaconj[ii,jj,:])).T)\n",
    "                optTSInCMSet[:,:,ii,jj,kk]=np.dot(np.dot(pomegaconj,TSPolInCM[:,:,ii,jj,kk]),np.conjugate(pomegaconj.T))\n",
    "    return optTSInCMSet\n",
    "    \n",
    "def Normalize_TSInCM(TSInCM):\n",
    "    ndim=TSInCM.ndim\n",
    "    if ndim>=4:\n",
    "        [q,qq,nrow,ncol,npol]=TSInCM.shape\n",
    "        norTSInCM=np.zeros((q,q,nrow,ncol,npol),dtype='complex_')\n",
    "        for ii in tqdm(range(npol),position=0,desc='Normalize_TSInCM:'):\n",
    "            for kk in range(nrow):\n",
    "                for ll in range(ncol):\n",
    "                    TSIntensity=np.diag(TSInCM[:,:,kk,ll,ii])\n",
    "                    TSIntensity=TSIntensity.reshape(q,1)\n",
    "                    TSIntCM1=np.dot(TSIntensity,np.ones((1,q)))\n",
    "                    TSIntCM2=np.ones((q,1))*TSIntensity.T\n",
    "                    norTSInCM[:,:,kk,ll,ii]=TSInCM[:,:,kk,ll,ii]/np.sqrt(TSIntCM1*TSIntCM2)\n",
    "    return norTSInCM"
   ]
  },
  {
   "cell_type": "code",
   "execution_count": null,
   "metadata": {},
   "outputs": [
    {
     "name": "stderr",
     "output_type": "stream",
     "text": [
      "TSPolInCM2TSInCMSet:: 100%|██████████| 115/115 [00:41<00:00,  2.77it/s]\n",
      "Normalize_TSInCM:: 100%|██████████| 180/180 [00:20<00:00,  8.94it/s]\n"
     ]
    }
   ],
   "source": [
    "TSInCMSet_ESPODS=Normalize_TSInCM(TSPolInCM2TSInCMSet(TSPolInCM_filter,omegaconjDS))#ESPO"
   ]
  },
  {
   "cell_type": "code",
   "execution_count": null,
   "metadata": {},
   "outputs": [
    {
     "name": "stdout",
     "output_type": "stream",
     "text": [
      "0.40303751389636977\n"
     ]
    }
   ],
   "source": [
    "optCor=np.squeeze((TSInCMSet_ESPODS[0,1,:,:,]))\n",
    "print(np.mean(np.abs(optCor)))"
   ]
  },
  {
   "cell_type": "markdown",
   "metadata": {},
   "source": []
  }
 ],
 "metadata": {
  "kernelspec": {
   "display_name": "ESPO",
   "language": "python",
   "name": "python3"
  },
  "language_info": {
   "codemirror_mode": {
    "name": "ipython",
    "version": 3
   },
   "file_extension": ".py",
   "mimetype": "text/x-python",
   "name": "python",
   "nbconvert_exporter": "python",
   "pygments_lexer": "ipython3",
   "version": "3.9.17"
  },
  "orig_nbformat": 4
 },
 "nbformat": 4,
 "nbformat_minor": 2
}
