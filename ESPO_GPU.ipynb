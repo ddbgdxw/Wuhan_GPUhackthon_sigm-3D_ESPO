{
 "cells": [
  {
   "cell_type": "code",
   "execution_count": 1,
   "metadata": {},
   "outputs": [],
   "source": [
    "import scipy.io as io\n",
    "import numpy as np\n",
    "import cupy as cp\n",
    "from tqdm import tqdm\n",
    "import scipy\n",
    "import time"
   ]
  },
  {
   "cell_type": "markdown",
   "metadata": {},
   "source": [
    "#### 1 数据读入\n",
    "\n",
    "提供了四个不同大小的模拟数据\n",
    "\n",
    "TSPolInCM_filter_1.mat 6×6×115×115×19\n",
    "\n",
    "TSPolInCM_filter_3.mat 6×6×115×115×54\n",
    "\n",
    "TSPolInCM_filter_9.mat 6×6×115×115×135  \n",
    "\n",
    "TSPolInCM_filter_15.mat 6×6×115×115×180\n",
    "\n",
    "数据格式为：6×6×m×n×M"
   ]
  },
  {
   "cell_type": "code",
   "execution_count": 2,
   "metadata": {},
   "outputs": [
    {
     "name": "stdout",
     "output_type": "stream",
     "text": [
      "(6, 6, 115, 115, 180)\n",
      "<class 'numpy.ndarray'>\n",
      "<class 'cupy.ndarray'>\n"
     ]
    }
   ],
   "source": [
    "data=io.loadmat('./data/TSPolInCM_filter_1.mat')\n",
    "# data=io.loadmat('./data/TSPolInCM_filter_3.mat')\n",
    "# data=io.loadmat('./data/TSPolInCM_filter_9.mat')\n",
    "# data=io.loadmat('./data/TSPolInCM_filter_15.mat')\n",
    "TSPolInCM_filter=data['data']\n",
    "print(TSPolInCM_filter.shape)\n",
    "# 数据格式为：6*6*m*n*N\n",
    "print(type(TSPolInCM_filter))\n",
    "TSPolInCM_filter = cp.asarray(TSPolInCM_filter)\n",
    "print(type(TSPolInCM_filter))"
   ]
  },
  {
   "cell_type": "markdown",
   "metadata": {},
   "source": [
    "#### 2 ESPO for DS\n",
    "\n",
    "这里是需要优化的算法部分"
   ]
  },
  {
   "cell_type": "markdown",
   "metadata": {},
   "source": [
    "##### 2.1 非线性优化目标函数"
   ]
  },
  {
   "cell_type": "code",
   "execution_count": 3,
   "metadata": {},
   "outputs": [],
   "source": [
    "def favecoh_fullpol(x,pTST11,pTST12,pTST22,nintf):\n",
    "    # 计算三个ω值，x为求解的4个参数值\n",
    "    _omegaconj=np.zeros((3,1),dtype='complex_')\n",
    "    [_omegaconj[0],_omegaconj[1],_omegaconj[2]]=[np.conjugate(np.cos(x[0])),np.conjugate(np.sin(x[0])*np.cos(x[1])*np.exp(x[2]*1j)),np.conjugate(np.sin(x[0])*np.sin(x[1])*np.exp(x[3]*1j))]\n",
    "    _omegaconj=_omegaconj.T\n",
    "    \n",
    "    [_npol,qq,_nintf]=pTST11.shape\n",
    "    _omegaSet=np.kron(np.ones((1,nintf)),np.conjugate(_omegaconj))\n",
    "\n",
    "    pTST11opt=np.multiply(np.dot(_omegaconj,np.reshape(pTST11,[_npol,_npol*_nintf],order='F')),_omegaSet)\n",
    "    pTST12opt=np.multiply(np.dot(_omegaconj,np.reshape(pTST12,[_npol,_npol*_nintf],order='F')),_omegaSet)\n",
    "    pTST22opt=np.multiply(np.dot(_omegaconj,np.reshape(pTST22,[_npol,_npol*_nintf],order='F')),_omegaSet)\n",
    "    pTST11opt=np.sum(np.reshape(pTST11opt,[pTST11opt.shape[0],_nintf,_npol],order='C'),axis=2)\n",
    "    pTST12opt=np.sum(np.reshape(pTST12opt,[pTST11opt.shape[0],_nintf,_npol],order='C'),axis=2)\n",
    "    pTST22opt=np.sum(np.reshape(pTST22opt,[pTST11opt.shape[0],_nintf,_npol],order='C'),axis=2)\n",
    "    TSCoh=np.divide(pTST12opt,np.sqrt(np.multiply(pTST11opt,pTST22opt)))\n",
    "    \n",
    "    meanTScoh=np.mean(np.abs(TSCoh),axis=1)\n",
    "    return -meanTScoh"
   ]
  },
  {
   "cell_type": "code",
   "execution_count": 4,
   "metadata": {},
   "outputs": [],
   "source": [
    "def ESPO_TSPolDS_1(TSPolInCM,interdeg=10):\n",
    "    [q,qq,nrow,ncol,nintf]=TSPolInCM.shape\n",
    "    # step1\n",
    "    # 计算枚举4个参数的步长,并枚举4个参数（枚举需要包含右端点）\n",
    "    npol=q//2\n",
    "    num_1=90//interdeg\n",
    "    num_2=360//interdeg\n",
    "    if 90%interdeg==0:\n",
    "        num_1+=1\n",
    "        num_2+=1\n",
    "    num_1=num_1*1j\n",
    "    num_2=num_2*1j\n",
    "\n",
    "    a=cp.mgrid[0:90:num_1,0:90:num_1,-180:180:num_2,-180:180:num_2]\n",
    "    [aaa,bbb,ccc,ddd,eee]=a.shape\n",
    "    sum=bbb*ccc*ddd*eee\n",
    "    dff=cp.zeros((4,sum))\n",
    "    b=cp.ravel(a[0],order='F')\n",
    "    c=cp.ravel(a[1],order='F')\n",
    "    d=cp.ravel(a[2],order='F')\n",
    "    e=cp.ravel(a[3],order='F')\n",
    "    dff[0]=b\n",
    "    dff[1]=c\n",
    "    dff[2]=d\n",
    "    dff[3]=e\n",
    "    para=dff*cp.pi/180\n",
    "\n",
    "    # 使用4个参数计算ω值\n",
    "    omegaconj=cp.zeros((3,sum),dtype='complex_')\n",
    "    [omegaconj[0],omegaconj[1],omegaconj[2]]=[cp.conjugate(cp.cos(para[0,:])),cp.conjugate(cp.sin(para[0,:])*cp.cos(para[1,:])*cp.exp(para[2,:]*1j)),cp.conjugate(cp.sin(para[0,:])*cp.sin(para[1,:])*cp.exp(para[3,:]*1j))]\n",
    "    omegaconj=omegaconj.T\n",
    "    para=para.T\n",
    "    # print(omegaconj.shape)\n",
    "    # ω的数据格式：枚举数目×3\n",
    "    omegaSet=cp.kron(cp.ones((1,nintf)),cp.conjugate(omegaconj))\n",
    "    # print(omegaSet.shape)\n",
    "    # ω的数据格式：枚举数目×（3*N）\n",
    "    optpara=cp.zeros((nrow,ncol,4))\n",
    "\n",
    "    TSPolInCMT11=TSPolInCM[0:npol,0:npol,:,:,:]\n",
    "    TSPolInCMT12=TSPolInCM[0:npol,npol:npol*2,:,:,:]\n",
    "    TSPolInCMT22=TSPolInCM[npol:npol*2,npol:npol*2,:,:,:]    \n",
    "    # T矩阵数据格式：3×3×n×m×N\n",
    "    # step2\n",
    "    # 开始对每个像素进行处理\n",
    "    for ii in tqdm(range(nrow),position=0,desc='ESPO_TSPolDS:'):\n",
    "        for jj in range(ncol):\n",
    "\n",
    "            pTST11=cp.squeeze(TSPolInCMT11[:,:,ii,jj,:])\n",
    "            pTST12=cp.squeeze(TSPolInCMT12[:,:,ii,jj,:])\n",
    "            pTST22=cp.squeeze(TSPolInCMT22[:,:,ii,jj,:])\n",
    "            \n",
    "            pTST11opt=cp.multiply(cp.dot(omegaconj,cp.reshape(pTST11,[npol,npol*nintf],order='F')),omegaSet)\n",
    "            pTST12opt=cp.multiply(cp.dot(omegaconj,cp.reshape(pTST12,[npol,npol*nintf],order='F')),omegaSet)\n",
    "            pTST22opt=cp.multiply(cp.dot(omegaconj,cp.reshape(pTST22,[npol,npol*nintf],order='F')),omegaSet)\n",
    "            \n",
    "            pTST11opt=cp.sum(cp.reshape(pTST11opt,[pTST11opt.shape[0],nintf,npol],order='C'),axis=2)\n",
    "            pTST12opt=cp.sum(cp.reshape(pTST12opt,[pTST11opt.shape[0],nintf,npol],order='C'),axis=2)\n",
    "            pTST22opt=cp.sum(cp.reshape(pTST22opt,[pTST11opt.shape[0],nintf,npol],order='C'),axis=2)\n",
    "\n",
    "            TSCoh=cp.divide(pTST12opt,cp.sqrt(cp.multiply(pTST11opt,pTST22opt)))\n",
    "            meanTScoh=cp.mean(cp.abs(TSCoh),axis=1)\n",
    "            maxInd=cp.argmax(meanTScoh, axis=0)\n",
    "            optpara[ii,jj,:]=para[maxInd,:]\n",
    "\n",
    "\n",
    "    return optpara"
   ]
  },
  {
   "cell_type": "code",
   "execution_count": 5,
   "metadata": {},
   "outputs": [],
   "source": [
    "def ESPO_TSPolDS_2(TSPolInCM,optparaDS0_lag3,interdeg):\n",
    "    # optparaDS0_lag3是step2求解出的最优参数\n",
    "    [q,qq,nrow,ncol,nintf]=TSPolInCM.shape\n",
    "    npol=q//2\n",
    "    optomegaconj=np.zeros((nrow,ncol,npol),dtype='complex_')\n",
    "    optmeanCoh=np.zeros((nrow,ncol)) \n",
    "    optTSCoh=np.zeros((nrow,ncol,nintf),'complex_')\n",
    "    TSPolInCMT11=TSPolInCM[0:npol,0:npol,:,:,:]\n",
    "    TSPolInCMT12=TSPolInCM[0:npol,npol:npol*2,:,:,:]\n",
    "    TSPolInCMT22=TSPolInCM[npol:npol*2,npol:npol*2,:,:,:]\n",
    "\n",
    "    # step3\n",
    "    # 非线性优化部分\n",
    "    for ii in tqdm(range(nrow),position=0,desc='ESPO_TSPolDS:'):\n",
    "        for jj in range(ncol):\n",
    "            pTST11=np.squeeze(TSPolInCMT11[:,:,ii,jj,:])\n",
    "            pTST12=np.squeeze(TSPolInCMT12[:,:,ii,jj,:])\n",
    "            pTST22=np.squeeze(TSPolInCMT22[:,:,ii,jj,:])\n",
    "            x0=optparaDS0_lag3[ii,jj,:].T\n",
    "            lb0 = [0,0,-np.pi,-np.pi]\n",
    "            ub0 = [np.pi/2,np.pi/2,np.pi,np.pi]\n",
    "            lb1 = [x0[0],x0[1],x0[2],x0[3]]-np.deg2rad(interdeg)\n",
    "            ub1 = [x0[0],x0[1],x0[2],x0[3]]+np.deg2rad(interdeg)\n",
    "            lb=np.max([lb0,lb1],axis=0)\n",
    "            ub=np.min([ub0,ub1],axis=0)\n",
    "            bounds=((lb[0],ub[0]),(lb[1],ub[1]),(lb[2],ub[2]),(lb[3],ub[3]))\n",
    "            fval=scipy.optimize.minimize(favecoh_fullpol,x0,args=(pTST11,pTST12,pTST22,nintf),bounds=bounds)\n",
    "            x0=fval.x\n",
    "            optmeanCoh[ii,jj]=-fval.fun\n",
    "            fomegaconj=np.zeros((3,1),dtype='complex_')\n",
    "            [fomegaconj[0],fomegaconj[1],fomegaconj[2]]=[np.conjugate(np.cos(x0[0])),np.conjugate(np.sin(x0[0])*np.cos(x0[1])*np.exp(x0[2]*1j)),np.conjugate(np.sin(x0[0])*np.sin(x0[1])*np.exp(x0[3]*1j))]\n",
    "            fomegaconj=fomegaconj.T\n",
    "            optomegaconj[ii,jj,:]=fomegaconj\n",
    "            fomegaSet=np.kron(np.ones((1,nintf)),np.conjugate(fomegaconj))\n",
    "            pTST11opt=np.multiply(np.dot(fomegaconj,np.reshape(pTST11,[npol,npol*nintf],order='F')),fomegaSet)\n",
    "            pTST12opt=np.multiply(np.dot(fomegaconj,np.reshape(pTST12,[npol,npol*nintf],order='F')),fomegaSet)\n",
    "            pTST22opt=np.multiply(np.dot(fomegaconj,np.reshape(pTST22,[npol,npol*nintf],order='F')),fomegaSet)\n",
    "            pTST11opt=np.sum(np.reshape(pTST11opt,[pTST11opt.shape[0],nintf,npol],order='C'),axis=2)\n",
    "            pTST12opt=np.sum(np.reshape(pTST12opt,[pTST11opt.shape[0],nintf,npol],order='C'),axis=2)\n",
    "            pTST22opt=np.sum(np.reshape(pTST22opt,[pTST11opt.shape[0],nintf,npol],order='C'),axis=2)\n",
    "            TSCoh=np.divide(pTST12opt,np.sqrt(np.multiply(pTST11opt,pTST22opt)))\n",
    "            optTSCoh[ii,jj,:]=TSCoh\n",
    "\n",
    "    s3=time.time()\n",
    "    return optomegaconj,optTSCoh,optmeanCoh"
   ]
  },
  {
   "cell_type": "code",
   "execution_count": 6,
   "metadata": {},
   "outputs": [
    {
     "name": "stderr",
     "output_type": "stream",
     "text": [
      "ESPO_TSPolDS::  26%|██▌       | 30/115 [02:47<08:00,  5.66s/it]"
     ]
    }
   ],
   "source": [
    "s1=time.time()\n",
    "optparaDS0=ESPO_TSPolDS_1(TSPolInCM_filter,30)\n",
    "s2=time.time()\n",
    "\n",
    "TSPolInCM_filter=cp.asnumpy(TSPolInCM_filter)\n",
    "optparaDS0=cp.asnumpy(optparaDS0)\n",
    "\n",
    "\n",
    "omegaconjDS,optTSCoh,optmeanCoh=ESPO_TSPolDS_2(TSPolInCM_filter,optparaDS0,30)\n",
    "s3=time.time()"
   ]
  },
  {
   "cell_type": "code",
   "execution_count": null,
   "metadata": {},
   "outputs": [],
   "source": [
    "print(s2-s1,'s')\n",
    "print(s3-s2,'s')"
   ]
  },
  {
   "cell_type": "markdown",
   "metadata": {},
   "source": [
    "#### 3 结果验证\n",
    "\n",
    "结果验证部分"
   ]
  },
  {
   "cell_type": "code",
   "execution_count": null,
   "metadata": {},
   "outputs": [],
   "source": [
    "def TSPolInCM2TSInCMSet(TSPolInCM,omegaconj):\n",
    "    [q,qq,nrow,ncol,nintf]=TSPolInCM.shape\n",
    "    optTSInCMSet=np.zeros((2,2,nrow,ncol,nintf),dtype='complex_')\n",
    "    for ii in tqdm(range(nrow),position=0,desc='TSPolInCM2TSInCMSet:'):\n",
    "        for jj in range(nrow):\n",
    "            for kk in range(nintf):\n",
    "                pomegaconj=np.kron(np.identity(2),(np.squeeze(omegaconj[ii,jj,:])).T)\n",
    "                optTSInCMSet[:,:,ii,jj,kk]=np.dot(np.dot(pomegaconj,TSPolInCM[:,:,ii,jj,kk]),np.conjugate(pomegaconj.T))\n",
    "    return optTSInCMSet\n",
    "    \n",
    "def Normalize_TSInCM(TSInCM):\n",
    "    ndim=TSInCM.ndim\n",
    "    if ndim>=4:\n",
    "        [q,qq,nrow,ncol,npol]=TSInCM.shape\n",
    "        norTSInCM=np.zeros((q,q,nrow,ncol,npol),dtype='complex_')\n",
    "        for ii in tqdm(range(npol),position=0,desc='Normalize_TSInCM:'):\n",
    "            for kk in range(nrow):\n",
    "                for ll in range(ncol):\n",
    "                    TSIntensity=np.diag(TSInCM[:,:,kk,ll,ii])\n",
    "                    TSIntensity=TSIntensity.reshape(q,1)\n",
    "                    TSIntCM1=np.dot(TSIntensity,np.ones((1,q)))\n",
    "                    TSIntCM2=np.ones((q,1))*TSIntensity.T\n",
    "                    norTSInCM[:,:,kk,ll,ii]=TSInCM[:,:,kk,ll,ii]/np.sqrt(TSIntCM1*TSIntCM2)\n",
    "    return norTSInCM"
   ]
  },
  {
   "cell_type": "code",
   "execution_count": null,
   "metadata": {},
   "outputs": [],
   "source": [
    "TSInCMSet_ESPODS=Normalize_TSInCM(TSPolInCM2TSInCMSet(TSPolInCM_filter,omegaconjDS))#ESPO"
   ]
  },
  {
   "cell_type": "code",
   "execution_count": null,
   "metadata": {},
   "outputs": [],
   "source": [
    "optCor=np.squeeze((TSInCMSet_ESPODS[0,1,:,:,]))\n",
    "print(np.mean(np.abs(optCor)))"
   ]
  },
  {
   "cell_type": "markdown",
   "metadata": {},
   "source": [
    "|                     | 滤波                | ESPO(30°)           | ESPO(10°) |\n",
    "| ------------------- | ------------------- | ------------------- | --------- |\n",
    "| TSPolInCM_filter_1  | 0.7569960900128023  | 0.7856950154330996  |           |\n",
    "| TSPolInCM_filter_3  | 0.6206366399034696  | 0.6627275493016412  |           |\n",
    "| TSPolInCM_filter_9  | 0.4104428979802807  | 0.4690635517664519  |           |\n",
    "| TSPolInCM_filter_15 | 0.34559784860015585 | 0.40303751389636977 |           |"
   ]
  }
 ],
 "metadata": {
  "kernelspec": {
   "display_name": "ESPO",
   "language": "python",
   "name": "python3"
  },
  "language_info": {
   "codemirror_mode": {
    "name": "ipython",
    "version": 3
   },
   "file_extension": ".py",
   "mimetype": "text/x-python",
   "name": "python",
   "nbconvert_exporter": "python",
   "pygments_lexer": "ipython3",
   "version": "3.10.12"
  },
  "orig_nbformat": 4
 },
 "nbformat": 4,
 "nbformat_minor": 2
}
